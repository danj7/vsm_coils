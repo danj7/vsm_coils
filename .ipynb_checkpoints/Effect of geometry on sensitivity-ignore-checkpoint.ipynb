{
 "cells": [
  {
   "cell_type": "code",
   "execution_count": null,
   "metadata": {},
   "outputs": [],
   "source": [
    "import numpy as np\n",
    "import matplotlib.pyplot as plt"
   ]
  },
  {
   "cell_type": "code",
   "execution_count": null,
   "metadata": {},
   "outputs": [],
   "source": [
    "def G_r(y_c, z_c, radius, integration_steps = 1000):\n",
    "    \"\"\"\n",
    "    Returns array of sensitivity of wire loop at position (0,y_c,z_c) of a given radius.\n",
    "    \n",
    "    Parameters\n",
    "    ----------\n",
    "    y_c:    list or array-like\n",
    "        Multiple y coordinates can be input, this i used to generate the solenoid shape.\n",
    "    z_c:    float\n",
    "        Z-coordinate of loop(s).\n",
    "    radius: float\n",
    "        Radius of loop(s).\n",
    "    integration_steps:   int\n",
    "        Number of steps in integration.\n",
    "    \"\"\"\n",
    "    y_c = y_c.reshape(y_c.shape[0], 1)\n",
    "    theta = np.linspace(0,2*np.pi,integration_steps)\n",
    "    result = ( (radius*np.cos(theta))*(radius**2 + y_c**2 + z_c**2 - 2*z_c*radius*np.cos(theta))**1.5\n",
    "              + 3.0*(radius*np.cos(theta) - z_c)*(z_c*radius*np.cos(theta) - radius**2)\n",
    "              *(radius**2 + y_c**2 + z_c**2 - 2*z_c*radius*np.cos(theta))**0.5\n",
    "    )/( (radius**2 + y_c**2 + z_c**2 - 2*z_c*radius*np.cos(theta))**3. )\n",
    "    return result.sum(axis=-1)\n",
    "\n",
    "def G_solenoid(y_c, z_c, radius, nturns, wire_diam=0.006325):\n",
    "    \"\"\"\n",
    "    Returns sensitivity of a solenoid-like set of wire loops with y_c as center of first loop.\n",
    "    \n",
    "    Parameters\n",
    "    ----------\n",
    "    y_c:    float\n",
    "        Y-coordinate of first loop.\n",
    "    z_c:    float\n",
    "        Z-coordinate of first loop. Same for all.\n",
    "    radius: float\n",
    "        Radius of loops.\n",
    "    nturns:    int\n",
    "        Number of wire turns in the solenoid.\n",
    "    wire_diam: float\n",
    "        Diameter of wire used. By default it is set to AWG 42 wire.\n",
    "    \"\"\"\n",
    "    y_c = np.linspace(y_c, y_c + wire_diam*nturns, nturns)\n",
    "    return G_r(y_c, z_c, radius).sum(axis=-1)    \n",
    "\n",
    "def G_coil(y_c, z_c, radius_int, radius_ext, height, wire_diam=0.006325):\n",
    "    \"\"\"\n",
    "    Reutrns sensitivity of an entire detection coil.\n",
    "    \n",
    "    Pamaters\n",
    "    --------\n",
    "    y_c:    float\n",
    "        Y-coordinate of first loop.\n",
    "    z_c:    float\n",
    "        Z-coordinate of first loop. Same for all.\n",
    "    radius_int: float\n",
    "        Internal radius of core/smallest radius in the coil.\n",
    "    radius_ext: float\n",
    "        External radius of core/largest radius in the coil.\n",
    "    height:    float\n",
    "        Height of core.\n",
    "    wire_diam: float\n",
    "        Diameter of wire used. By default it is set to AWG 42 wire.\n",
    "    \"\"\"\n",
    "    assert (y_c>0),\"Minimum y-coordinate must be positive.\"\n",
    "    assert (z_c>=radius_ext), \"Minimum z-coordinate must be at least equal to external radius.\"\n",
    "    assert (radius_ext>radius_int), \"External radius must be greater than internal radius.\"\n",
    "    nturns = int(height / wire_diam)\n",
    "    nlayers = int( (radius_ext - radius_int) / wire_diam)\n",
    "    G_c = np.array([ G_solenoid(y_c, z_c, radius_int + wire_diam*nr, nturns, wire_diam) for nr in range(nlayers) ])\n",
    "    return G_c.sum(axis=-1)"
   ]
  },
  {
   "cell_type": "code",
   "execution_count": null,
   "metadata": {},
   "outputs": [],
   "source": [
    "#Testing it all checks out (3428970.8345384127)\n",
    "G_coil(.5, 1.5, 1.0, 1.5, .8)"
   ]
  },
  {
   "cell_type": "code",
   "execution_count": null,
   "metadata": {},
   "outputs": [],
   "source": [
    "G_coil?"
   ]
  },
  {
   "cell_type": "code",
   "execution_count": null,
   "metadata": {},
   "outputs": [],
   "source": [
    "array([1.99297247, 2.49062996, 0.5400843 , 1.20609041, 1.        ])"
   ]
  },
  {
   "cell_type": "markdown",
   "metadata": {},
   "source": [
    "### Y separation: sensitivity of a coil, varying y_c and for various z_c"
   ]
  },
  {
   "cell_type": "code",
   "execution_count": null,
   "metadata": {},
   "outputs": [],
   "source": [
    "%%time\n",
    "y_cs = np.arange(1.7, 2.3, .1) #position of center of first loop\n",
    "z_cs = [2., 2.49062996, 3.]#[1.5, 1.7, 2., 2.5, 3.]\n",
    "\n",
    "radius_int = 0.5400843\n",
    "radius_ext = 1.20609041\n",
    "height = 1.\n",
    "\n",
    "G_ysep = np.array([[G_coil(y_c, z_c, radius_int, radius_ext,height) for y_c in y_cs ] for z_c in z_cs])\n",
    "\n",
    "plt.figure(1)\n",
    "plt.clf()\n",
    "plt.title('Sensitivity as funciton of $y$-separation')\n",
    "\n",
    "for i in range(len(z_cs)):\n",
    "    plt.plot(y_cs, G_ysep[i]/G_ysep.max(), '.-', label='$z_c =$'+str(z_cs[i]))\n",
    "#\n",
    "plt.xlabel('$y$ separation')\n",
    "plt.ylabel('Normalized Sensitivity')\n",
    "plt.legend()\n",
    "plt.grid()\n",
    "plt.show()"
   ]
  },
  {
   "cell_type": "markdown",
   "metadata": {},
   "source": [
    "### Z separation: sensitivity of a coil, varying z_c and for various y_c"
   ]
  },
  {
   "cell_type": "code",
   "execution_count": null,
   "metadata": {},
   "outputs": [],
   "source": [
    "%%time\n",
    "z_cs = np.arange(1.5, 3.2, .1)\n",
    "y_cs = [.1, .5, 1., 1.5, 2.]\n",
    "\n",
    "radius_int = 1.0\n",
    "radius_ext = 1.5\n",
    "height = 0.8\n",
    "\n",
    "G_zsep = np.array([[ G_coil( y_c, z_c, radius_int, radius_ext, height ) for z_c in z_cs] for y_c in y_cs])\n",
    "\n",
    "plt.figure(2)\n",
    "plt.clf()\n",
    "plt.title('Sensitivity as funciton of $z$-separation')\n",
    "\n",
    "for i in range(len(y_cs)):\n",
    "    plt.plot(z_cs, G_zsep[i]/G_zsep.max(), '.-', label='$y_c=$'+str(y_cs[i]))\n",
    "#\n",
    "plt.xlabel('$z$ separation')\n",
    "plt.ylabel('Normalized Sensitivity')\n",
    "plt.legend()\n",
    "plt.grid()\n",
    "plt.show()"
   ]
  },
  {
   "cell_type": "markdown",
   "metadata": {},
   "source": [
    "### Varying external radius of a coil for different values of inner radius"
   ]
  },
  {
   "cell_type": "code",
   "execution_count": null,
   "metadata": {},
   "outputs": [],
   "source": [
    "%%time\n",
    "y_c = 0.5 #In the paper published, 1.5 is used here.\n",
    "radii_int = [.2, .5, 1., 2., 3.]\n",
    "radii_ext_max = 5.5\n",
    "height = 0.8\n",
    "radii_ext_min_step = 0.3\n",
    "r_ext_step = .1\n",
    "#z_c = r_ext at all times, meaning coils are flush with each other in the z-direction.\n",
    "\n",
    "G_rint = [[ G_coil(y_c, r_ext, r_int, r_ext, height) for r_ext in \n",
    "           np.arange(r_int + radii_ext_min_step, radii_ext_max, r_ext_step)]\n",
    "          for r_int in radii_int]\n",
    "\n",
    "G_rint_max = 0\n",
    "for i in range(len(G_rint)):\n",
    "    G_rint_max = max(G_rint_max, max(G_rint[i]))    \n",
    "\n",
    "plt.figure(3)\n",
    "plt.clf()\n",
    "plt.title('Sensitivity as funciton of $R_{ext}$')\n",
    "\n",
    "for i in range(len(radii_int)):\n",
    "    plt.plot( np.arange(radii_int[i] + radii_ext_min_step, radii_ext_max, r_ext_step)\n",
    "             , np.array(G_rint[i])/G_rint_max\n",
    "             , '.-', label='$R_{int}=$'+str(radii_int[i]))\n",
    "#\n",
    "plt.xlabel('$R_{ext}$')\n",
    "plt.ylabel('Normalized Sensitivity')\n",
    "plt.legend()\n",
    "plt.grid()\n",
    "plt.show()"
   ]
  },
  {
   "cell_type": "markdown",
   "metadata": {},
   "source": [
    "### Varying height for fixed y_c, z_c and radii"
   ]
  },
  {
   "cell_type": "code",
   "execution_count": null,
   "metadata": {},
   "outputs": [],
   "source": [
    "%%time\n",
    "y_c = 0.5\n",
    "z_c = 1.5\n",
    "radius_int = 1.0\n",
    "radius_ext = 1.5\n",
    "heights = np.arange(.1, 1.6, .1)\n",
    "\n",
    "G_height = np.array([G_coil(y_c, z_c, radius_int, radius_ext, height) for height in heights])\n",
    "\n",
    "plt.figure(4)\n",
    "plt.clf()\n",
    "plt.title('Sensitivity as funciton of coil height')\n",
    "#\n",
    "plt.plot(heights, G_height/max(G_height), '.-')\n",
    "#\n",
    "plt.xlabel('coil height')\n",
    "plt.ylabel('Normalized Sensitivity')\n",
    "plt.grid()\n",
    "plt.show()"
   ]
  },
  {
   "cell_type": "code",
   "execution_count": null,
   "metadata": {},
   "outputs": [],
   "source": []
  }
 ],
 "metadata": {
  "kernelspec": {
   "display_name": "Python 3",
   "language": "python",
   "name": "python3"
  },
  "language_info": {
   "codemirror_mode": {
    "name": "ipython",
    "version": 3
   },
   "file_extension": ".py",
   "mimetype": "text/x-python",
   "name": "python",
   "nbconvert_exporter": "python",
   "pygments_lexer": "ipython3",
   "version": "3.7.3"
  }
 },
 "nbformat": 4,
 "nbformat_minor": 2
}
